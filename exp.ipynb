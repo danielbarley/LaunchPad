{
 "cells": [
  {
   "cell_type": "code",
   "execution_count": 72,
   "metadata": {},
   "outputs": [],
   "source": [
    "import yaml\n",
    "from sklearn.model_selection import ParameterGrid, ParameterSampler\n",
    "from config import Config\n",
    "import uuid\n",
    "from subprocess import check_call\n",
    "import shutil\n",
    "import os"
   ]
  },
  {
   "cell_type": "code",
   "execution_count": 73,
   "metadata": {},
   "outputs": [],
   "source": [
    "config = Config(\"config.yaml\")"
   ]
  },
  {
   "cell_type": "code",
   "execution_count": 83,
   "metadata": {},
   "outputs": [],
   "source": [
    "config = Config(\"sparsification.yaml\")"
   ]
  },
  {
   "cell_type": "code",
   "execution_count": 85,
   "metadata": {},
   "outputs": [
    {
     "name": "stdout",
     "output_type": "stream",
     "text": [
      "python /sailhome/haosheng/workspace/sparsification/exp.py --max_iteration 5000 --mode effective --r 0.1 --save_folder /deep/group/haosheng/sparsification/exp/ --exp_name 0.1_effective_round_0\n",
      "python /sailhome/haosheng/workspace/sparsification/exp.py --max_iteration 5000 --mode effective --r 0.5 --save_folder /deep/group/haosheng/sparsification/exp/ --exp_name 0.5_effective_round_0\n",
      "python /sailhome/haosheng/workspace/sparsification/exp.py --max_iteration 5000 --mode effective --r 2 --save_folder /deep/group/haosheng/sparsification/exp/ --exp_name 2_effective_round_0\n",
      "python /sailhome/haosheng/workspace/sparsification/exp.py --max_iteration 5000 --mode effective --r 10 --save_folder /deep/group/haosheng/sparsification/exp/ --exp_name 10_effective_round_0\n",
      "python /sailhome/haosheng/workspace/sparsification/exp.py --max_iteration 5000 --mode random --r 0.1 --save_folder /deep/group/haosheng/sparsification/exp/ --exp_name 0.1_random_round_0\n",
      "python /sailhome/haosheng/workspace/sparsification/exp.py --max_iteration 5000 --mode random --r 0.5 --save_folder /deep/group/haosheng/sparsification/exp/ --exp_name 0.5_random_round_0\n",
      "python /sailhome/haosheng/workspace/sparsification/exp.py --max_iteration 5000 --mode random --r 2 --save_folder /deep/group/haosheng/sparsification/exp/ --exp_name 2_random_round_0\n",
      "python /sailhome/haosheng/workspace/sparsification/exp.py --max_iteration 5000 --mode random --r 10 --save_folder /deep/group/haosheng/sparsification/exp/ --exp_name 10_random_round_0\n",
      "python /sailhome/haosheng/workspace/sparsification/exp.py --max_iteration 5000 --mode weight --r 0.1 --save_folder /deep/group/haosheng/sparsification/exp/ --exp_name 0.1_weight_round_0\n",
      "python /sailhome/haosheng/workspace/sparsification/exp.py --max_iteration 5000 --mode weight --r 0.5 --save_folder /deep/group/haosheng/sparsification/exp/ --exp_name 0.5_weight_round_0\n",
      "python /sailhome/haosheng/workspace/sparsification/exp.py --max_iteration 5000 --mode weight --r 2 --save_folder /deep/group/haosheng/sparsification/exp/ --exp_name 2_weight_round_0\n",
      "python /sailhome/haosheng/workspace/sparsification/exp.py --max_iteration 5000 --mode weight --r 10 --save_folder /deep/group/haosheng/sparsification/exp/ --exp_name 10_weight_round_0\n"
     ]
    }
   ],
   "source": [
    "meta, hp = config.meta, config.hp\n",
    "for i in range(meta.repeat):\n",
    "    if meta.mode == \"grid\":\n",
    "        config_list = list(ParameterGrid(hp))\n",
    "    elif meta.mode == \"random\":\n",
    "        config_list = list(ParameterSampler(hp, meta.sample))\n",
    "        \n",
    "    for idx, c in enumerate(config_list):\n",
    "        if meta.key is not None:\n",
    "            key_config = meta.key\n",
    "            c['exp_name'] = exp_name = \"_\".join([str(c[k]) for k in key_config]) + f\"_round_{i}\"\n",
    "        else:\n",
    "            c['exp_name'] = exp_name = uuid.uuid4().hex\n",
    "        exec_line = f\"{meta.script} \" + \" \".join([f\"--{k} {v}\" for k, v in c.items()])\n",
    "        \n",
    "        \"\"\"\n",
    "        with open(f'{meta.sandbox}/temp.sh', 'w') as outfile:\n",
    "            outfile.write(\"#!/bin/bash\\n\")\n",
    "            outfile.write(f\"rm -rf {meta.sandbox}/{exp_name}\\n\")\n",
    "            outfile.write(f\"rm -rf {meta.sandbox}/tb/{exp_name}\\n\")\n",
    "            outfile.write(exec_line)\n",
    "        \"\"\"\n",
    "        \n",
    "        with open(\"sbatch_template.sh\") as f:\n",
    "            template = f.read()\n",
    "\n",
    "            template = template.replace(\"@GPUS\", f\"{meta.gpus}\")\n",
    "            template = template.replace(\"@EXCLUDE\", f\"{meta.exclude}\")\n",
    "            template = template.replace(\"@LOG\", f\"{meta.logpath}\")\n",
    "            template = template.replace(\"@NAME\", f\"{exp_name}\")\n",
    "            template = template.replace(\"@COMMAND\", f\"{exec_line}\")\n",
    "            \n",
    "            sbatch_filepath = os.path.join(meta.sandbox, f\"{exp_name}.sh\")\n",
    "            with open(sbatch_filepath, 'w') as f:\n",
    "                f.write(template)\n",
    "                \n",
    "            check_call(f\"sbatch {sbatch_filepath}\", shell=True)\n",
    "            print(exec_line)\n",
    "            os.remove(sbatch_filepath)"
   ]
  },
  {
   "cell_type": "code",
   "execution_count": null,
   "metadata": {},
   "outputs": [],
   "source": []
  },
  {
   "cell_type": "code",
   "execution_count": 53,
   "metadata": {},
   "outputs": [
    {
     "data": {
      "text/plain": [
       "{'r': 20, 'save_folder': '/', 'exp_name': '20_round_4'}"
      ]
     },
     "execution_count": 53,
     "metadata": {},
     "output_type": "execute_result"
    }
   ],
   "source": [
    "c"
   ]
  },
  {
   "cell_type": "code",
   "execution_count": 28,
   "metadata": {},
   "outputs": [
    {
     "ename": "CalledProcessError",
     "evalue": "Command 'srun /usr/local/cuda/samples/1_Utilities/deviceQuery/deviceQuery' returned non-zero exit status 1.",
     "output_type": "error",
     "traceback": [
      "\u001b[0;31m---------------------------------------------------------------------------\u001b[0m",
      "\u001b[0;31mCalledProcessError\u001b[0m                        Traceback (most recent call last)",
      "\u001b[0;32m<ipython-input-28-ab2afd6d6665>\u001b[0m in \u001b[0;36m<module>\u001b[0;34m\u001b[0m\n\u001b[1;32m      1\u001b[0m \u001b[0;32mfrom\u001b[0m \u001b[0msubprocess\u001b[0m \u001b[0;32mimport\u001b[0m \u001b[0mcheck_call\u001b[0m\u001b[0;34m\u001b[0m\u001b[0;34m\u001b[0m\u001b[0m\n\u001b[1;32m      2\u001b[0m \u001b[0;34m\u001b[0m\u001b[0m\n\u001b[0;32m----> 3\u001b[0;31m \u001b[0mcheck_call\u001b[0m\u001b[0;34m(\u001b[0m\u001b[0;34m\"srun /usr/local/cuda/samples/1_Utilities/deviceQuery/deviceQuery\"\u001b[0m\u001b[0;34m,\u001b[0m \u001b[0mshell\u001b[0m\u001b[0;34m=\u001b[0m\u001b[0;32mTrue\u001b[0m\u001b[0;34m)\u001b[0m\u001b[0;34m\u001b[0m\u001b[0;34m\u001b[0m\u001b[0m\n\u001b[0m",
      "\u001b[0;32m/deep/group/packages/miniconda3/envs/hao/lib/python3.6/subprocess.py\u001b[0m in \u001b[0;36mcheck_call\u001b[0;34m(*popenargs, **kwargs)\u001b[0m\n\u001b[1;32m    309\u001b[0m         \u001b[0;32mif\u001b[0m \u001b[0mcmd\u001b[0m \u001b[0;32mis\u001b[0m \u001b[0;32mNone\u001b[0m\u001b[0;34m:\u001b[0m\u001b[0;34m\u001b[0m\u001b[0;34m\u001b[0m\u001b[0m\n\u001b[1;32m    310\u001b[0m             \u001b[0mcmd\u001b[0m \u001b[0;34m=\u001b[0m \u001b[0mpopenargs\u001b[0m\u001b[0;34m[\u001b[0m\u001b[0;36m0\u001b[0m\u001b[0;34m]\u001b[0m\u001b[0;34m\u001b[0m\u001b[0;34m\u001b[0m\u001b[0m\n\u001b[0;32m--> 311\u001b[0;31m         \u001b[0;32mraise\u001b[0m \u001b[0mCalledProcessError\u001b[0m\u001b[0;34m(\u001b[0m\u001b[0mretcode\u001b[0m\u001b[0;34m,\u001b[0m \u001b[0mcmd\u001b[0m\u001b[0;34m)\u001b[0m\u001b[0;34m\u001b[0m\u001b[0;34m\u001b[0m\u001b[0m\n\u001b[0m\u001b[1;32m    312\u001b[0m     \u001b[0;32mreturn\u001b[0m \u001b[0;36m0\u001b[0m\u001b[0;34m\u001b[0m\u001b[0;34m\u001b[0m\u001b[0m\n\u001b[1;32m    313\u001b[0m \u001b[0;34m\u001b[0m\u001b[0m\n",
      "\u001b[0;31mCalledProcessError\u001b[0m: Command 'srun /usr/local/cuda/samples/1_Utilities/deviceQuery/deviceQuery' returned non-zero exit status 1."
     ]
    }
   ],
   "source": [
    "\n",
    "\n",
    "check_call(\"srun /usr/local/cuda/samples/1_Utilities/deviceQuery/deviceQuery\", shell=True)"
   ]
  },
  {
   "cell_type": "code",
   "execution_count": 29,
   "metadata": {},
   "outputs": [
    {
     "data": {
      "text/plain": [
       "256"
      ]
     },
     "execution_count": 29,
     "metadata": {},
     "output_type": "execute_result"
    }
   ],
   "source": [
    "os.system(\"srun /usr/local/cuda/samples/1_Utilities/deviceQuery/deviceQuery\")"
   ]
  },
  {
   "cell_type": "code",
   "execution_count": null,
   "metadata": {},
   "outputs": [],
   "source": [
    "for i in range(1,2):\n",
    "    for idx, c in tqdm(enumerate(list(ParameterGrid(config.hp)))):\n",
    "        key_config = [\"model\", \"backbone\", \"lr\", \"n_groups\"]\n",
    "        exp_name = \"_\".join([\"VI\"] + [str(c[k]) for k in key_config]) + f\"_exp{i}\"\n",
    "        c['exp_name'] = exp_name\n",
    "        exec_line = f\"python {meta.script} train\" + \" \".join([f\"--{k} {v}\" for k, v in c.items()])\n",
    "        \n",
    "        with open(f'{meta.sandbox}/temp.sh', 'w') as outfile:\n",
    "            outfile.write(\"#!/bin/bash\\n\")\n",
    "            outfile.write(f\"rm -rf {meta.sandbox}/{exp_name}\\n\")\n",
    "            outfile.write(f\"rm -rf {meta.sandbox}/tb/{exp_name}\\n\")\n",
    "            outfile.write(exec_line)\n",
    "        \n",
    "        os.system('sbatch /sailhome/haosheng/workspace/agriculture/scripts/run_temp_vi.sh')\n",
    "        time.sleep(3)"
   ]
  },
  {
   "cell_type": "code",
   "execution_count": 30,
   "metadata": {},
   "outputs": [
    {
     "ename": "NameError",
     "evalue": "name 'subprocess' is not defined",
     "output_type": "error",
     "traceback": [
      "\u001b[0;31m---------------------------------------------------------------------------\u001b[0m",
      "\u001b[0;31mNameError\u001b[0m                                 Traceback (most recent call last)",
      "\u001b[0;32m<ipython-input-30-3034d12f90a1>\u001b[0m in \u001b[0;36m<module>\u001b[0;34m\u001b[0m\n\u001b[0;32m----> 1\u001b[0;31m \u001b[0msubprocess\u001b[0m\u001b[0;34m.\u001b[0m\u001b[0mcall\u001b[0m\u001b[0;34m(\u001b[0m\u001b[0;34m[\u001b[0m\u001b[0;34m\"ls\"\u001b[0m\u001b[0;34m,\u001b[0m \u001b[0;34m\"-l\"\u001b[0m\u001b[0;34m]\u001b[0m\u001b[0;34m)\u001b[0m\u001b[0;34m\u001b[0m\u001b[0;34m\u001b[0m\u001b[0m\n\u001b[0m",
      "\u001b[0;31mNameError\u001b[0m: name 'subprocess' is not defined"
     ]
    }
   ],
   "source": [
    "subprocess.call([\"ls\", \"-l\"])"
   ]
  },
  {
   "cell_type": "code",
   "execution_count": null,
   "metadata": {},
   "outputs": [],
   "source": []
  }
 ],
 "metadata": {
  "kernelspec": {
   "display_name": "agriculture",
   "language": "python",
   "name": "agriculture"
  },
  "language_info": {
   "codemirror_mode": {
    "name": "ipython",
    "version": 3
   },
   "file_extension": ".py",
   "mimetype": "text/x-python",
   "name": "python",
   "nbconvert_exporter": "python",
   "pygments_lexer": "ipython3",
   "version": "3.6.9"
  }
 },
 "nbformat": 4,
 "nbformat_minor": 4
}
